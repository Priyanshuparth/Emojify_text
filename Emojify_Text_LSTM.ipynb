{
 "cells": [
  {
   "cell_type": "code",
   "execution_count": 1,
   "id": "confidential-intermediate",
   "metadata": {},
   "outputs": [],
   "source": [
    "import numpy as np\n",
    "import pandas as pd\n",
    "import emoji\n",
    "import matplotlib.pyplot as plt\n",
    "from keras.models import Sequential\n",
    "from keras.layers import Dense, LSTM, SimpleRNN, Embedding\n",
    "\n",
    "from keras.preprocessing.text import Tokenizer\n",
    "from keras.preprocessing.sequence import pad_sequences\n",
    "from tensorflow.keras.utils import to_categorical"
   ]
  },
  {
   "cell_type": "code",
   "execution_count": 2,
   "id": "future-seeking",
   "metadata": {},
   "outputs": [
    {
     "data": {
      "text/html": [
       "<div>\n",
       "<style scoped>\n",
       "    .dataframe tbody tr th:only-of-type {\n",
       "        vertical-align: middle;\n",
       "    }\n",
       "\n",
       "    .dataframe tbody tr th {\n",
       "        vertical-align: top;\n",
       "    }\n",
       "\n",
       "    .dataframe thead th {\n",
       "        text-align: right;\n",
       "    }\n",
       "</style>\n",
       "<table border=\"1\" class=\"dataframe\">\n",
       "  <thead>\n",
       "    <tr style=\"text-align: right;\">\n",
       "      <th></th>\n",
       "      <th>0</th>\n",
       "      <th>1</th>\n",
       "    </tr>\n",
       "  </thead>\n",
       "  <tbody>\n",
       "    <tr>\n",
       "      <th>0</th>\n",
       "      <td>French macaroon is so tasty</td>\n",
       "      <td>4</td>\n",
       "    </tr>\n",
       "    <tr>\n",
       "      <th>1</th>\n",
       "      <td>work is horrible</td>\n",
       "      <td>3</td>\n",
       "    </tr>\n",
       "    <tr>\n",
       "      <th>2</th>\n",
       "      <td>I am upset</td>\n",
       "      <td>3</td>\n",
       "    </tr>\n",
       "    <tr>\n",
       "      <th>3</th>\n",
       "      <td>throw the ball</td>\n",
       "      <td>1</td>\n",
       "    </tr>\n",
       "    <tr>\n",
       "      <th>4</th>\n",
       "      <td>Good joke</td>\n",
       "      <td>2</td>\n",
       "    </tr>\n",
       "  </tbody>\n",
       "</table>\n",
       "</div>"
      ],
      "text/plain": [
       "                             0   1\n",
       "0  French macaroon is so tasty   4\n",
       "1             work is horrible   3\n",
       "2                   I am upset  3 \n",
       "3               throw the ball  1 \n",
       "4                    Good joke   2"
      ]
     },
     "execution_count": 2,
     "metadata": {},
     "output_type": "execute_result"
    }
   ],
   "source": [
    "data = pd.read_csv('emoji_data.csv', header = None)\n",
    "data.head()\n"
   ]
  },
  {
   "cell_type": "code",
   "execution_count": 3,
   "id": "e900641e",
   "metadata": {},
   "outputs": [],
   "source": [
    "data=data.dropna()"
   ]
  },
  {
   "cell_type": "code",
   "execution_count": 4,
   "id": "hollywood-simulation",
   "metadata": {},
   "outputs": [],
   "source": [
    "emoji_dict = {\n",
    "    0: \":red_heart:\",\n",
    "    1: \":baseball:\",\n",
    "    2: \":grinning_face_with_big_eyes:\",\n",
    "    3: \":disappointed_face:\",\n",
    "    4: \":fork_and_knife_with_plate:\"\n",
    "}\n",
    "\n",
    "def label_to_emoji(label):\n",
    "    return emoji.emojize(emoji_dict[label])"
   ]
  },
  {
   "cell_type": "code",
   "execution_count": 5,
   "id": "indoor-recipient",
   "metadata": {},
   "outputs": [],
   "source": [
    "X = data[0].values\n",
    "Y = data[1].values\n",
    "X=np.delete(X,29)\n",
    "Y=np.delete(Y,29)"
   ]
  },
  {
   "cell_type": "code",
   "execution_count": null,
   "id": "582d4e51",
   "metadata": {},
   "outputs": [],
   "source": []
  },
  {
   "cell_type": "markdown",
   "id": "concerned-oxide",
   "metadata": {},
   "source": [
    "# Embeddings"
   ]
  },
  {
   "cell_type": "code",
   "execution_count": 6,
   "id": "buried-opposition",
   "metadata": {},
   "outputs": [],
   "source": [
    "file = open('glove.6B.100d.txt', 'r', encoding = 'utf8')\n",
    "content = file.readlines()\n",
    "file.close()\n",
    "\n",
    "# content"
   ]
  },
  {
   "cell_type": "code",
   "execution_count": 7,
   "id": "based-response",
   "metadata": {},
   "outputs": [],
   "source": [
    "embeddings = {}\n",
    "\n",
    "for line in content:\n",
    "    line = line.split()\n",
    "    embeddings[line[0]] = np.array(line[1:], dtype = float)"
   ]
  },
  {
   "cell_type": "code",
   "execution_count": 8,
   "id": "coordinate-color",
   "metadata": {},
   "outputs": [],
   "source": [
    "def get_maxlen(data):\n",
    "    maxlen = 0\n",
    "    for sent in data:\n",
    "        maxlen = max(maxlen, len(sent))\n",
    "    return maxlen\n",
    "\n"
   ]
  },
  {
   "cell_type": "code",
   "execution_count": 9,
   "id": "manual-maryland",
   "metadata": {},
   "outputs": [],
   "source": [
    "tokenizer = Tokenizer()\n",
    "tokenizer.fit_on_texts(X)\n",
    "word2index = tokenizer.word_index"
   ]
  },
  {
   "cell_type": "code",
   "execution_count": 10,
   "id": "recovered-fortune",
   "metadata": {},
   "outputs": [],
   "source": [
    "Xtokens = tokenizer.texts_to_sequences(X)\n"
   ]
  },
  {
   "cell_type": "code",
   "execution_count": 11,
   "id": "36b88eba",
   "metadata": {},
   "outputs": [
    {
     "name": "stdout",
     "output_type": "stream",
     "text": [
      "10\n"
     ]
    }
   ],
   "source": [
    "maxlen = get_maxlen(Xtokens)\n",
    "print(maxlen)"
   ]
  },
  {
   "cell_type": "code",
   "execution_count": 12,
   "id": "e01666bc",
   "metadata": {},
   "outputs": [],
   "source": [
    "Xtrain = pad_sequences(Xtokens, maxlen = maxlen,  padding = 'post', truncating = 'post')"
   ]
  },
  {
   "cell_type": "code",
   "execution_count": 13,
   "id": "polyphonic-cannon",
   "metadata": {},
   "outputs": [],
   "source": [
    "Ytrain = to_categorical(Y)"
   ]
  },
  {
   "cell_type": "markdown",
   "id": "greatest-violin",
   "metadata": {},
   "source": [
    "# Model"
   ]
  },
  {
   "cell_type": "code",
   "execution_count": 14,
   "id": "intended-rapid",
   "metadata": {},
   "outputs": [],
   "source": [
    "embed_size = 100\n",
    "embedding_matrix = np.zeros((len(word2index)+1, embed_size))\n",
    "\n",
    "for word, i in word2index.items():\n",
    "    embed_vector = embeddings[word]\n",
    "    embedding_matrix[i] = embed_vector"
   ]
  },
  {
   "cell_type": "code",
   "execution_count": 15,
   "id": "weighted-relationship",
   "metadata": {},
   "outputs": [
    {
     "data": {
      "text/plain": [
       "array([[ 0.      ,  0.      ,  0.      , ...,  0.      ,  0.      ,\n",
       "         0.      ],\n",
       "       [-0.046539,  0.61966 ,  0.56647 , ..., -0.37616 , -0.032502,\n",
       "         0.8062  ],\n",
       "       [-0.49886 ,  0.76602 ,  0.89751 , ..., -0.41179 ,  0.40539 ,\n",
       "         0.78504 ],\n",
       "       ...,\n",
       "       [-0.46263 ,  0.069864,  0.69095 , ..., -0.29174 ,  0.32041 ,\n",
       "         0.21202 ],\n",
       "       [ 0.073242,  0.11134 ,  0.62281 , ...,  0.53417 , -0.1646  ,\n",
       "        -0.27516 ],\n",
       "       [ 0.29019 ,  0.80497 ,  0.31187 , ..., -0.33603 ,  0.45998 ,\n",
       "        -0.11278 ]])"
      ]
     },
     "execution_count": 15,
     "metadata": {},
     "output_type": "execute_result"
    }
   ],
   "source": [
    "embedding_matrix"
   ]
  },
  {
   "cell_type": "code",
   "execution_count": 16,
   "id": "homeless-single",
   "metadata": {},
   "outputs": [],
   "source": [
    "model = Sequential([\n",
    "    Embedding(input_dim = len(word2index) + 1,\n",
    "              output_dim = embed_size,\n",
    "              input_length = maxlen,\n",
    "              weights = [embedding_matrix],\n",
    "              trainable = False\n",
    "             ),\n",
    "    \n",
    "    LSTM(units = 16, return_sequences = True),\n",
    "    LSTM(units = 4),\n",
    "    Dense(5, activation = 'softmax')\n",
    "])\n",
    "\n",
    "model.compile(optimizer = 'adam', loss = 'categorical_crossentropy', metrics = ['accuracy'])"
   ]
  },
  {
   "cell_type": "code",
   "execution_count": 17,
   "id": "technical-possible",
   "metadata": {},
   "outputs": [
    {
     "name": "stdout",
     "output_type": "stream",
     "text": [
      "Epoch 1/100\n",
      "6/6 [==============================] - 8s 14ms/step - loss: 1.5969 - accuracy: 0.2857\n",
      "Epoch 2/100\n",
      "6/6 [==============================] - 0s 14ms/step - loss: 1.5714 - accuracy: 0.3462\n",
      "Epoch 3/100\n",
      "6/6 [==============================] - 0s 14ms/step - loss: 1.5521 - accuracy: 0.3736\n",
      "Epoch 4/100\n",
      "6/6 [==============================] - 0s 16ms/step - loss: 1.5341 - accuracy: 0.3956\n",
      "Epoch 5/100\n",
      "6/6 [==============================] - 0s 13ms/step - loss: 1.5181 - accuracy: 0.3901\n",
      "Epoch 6/100\n",
      "6/6 [==============================] - 0s 13ms/step - loss: 1.5018 - accuracy: 0.3901\n",
      "Epoch 7/100\n",
      "6/6 [==============================] - 0s 14ms/step - loss: 1.4818 - accuracy: 0.4121\n",
      "Epoch 8/100\n",
      "6/6 [==============================] - 0s 15ms/step - loss: 1.4591 - accuracy: 0.4396\n",
      "Epoch 9/100\n",
      "6/6 [==============================] - 0s 15ms/step - loss: 1.4355 - accuracy: 0.4560\n",
      "Epoch 10/100\n",
      "6/6 [==============================] - 0s 16ms/step - loss: 1.4066 - accuracy: 0.4725\n",
      "Epoch 11/100\n",
      "6/6 [==============================] - 0s 16ms/step - loss: 1.3772 - accuracy: 0.5220\n",
      "Epoch 12/100\n",
      "6/6 [==============================] - 0s 16ms/step - loss: 1.3400 - accuracy: 0.5440\n",
      "Epoch 13/100\n",
      "6/6 [==============================] - 0s 16ms/step - loss: 1.3045 - accuracy: 0.5495\n",
      "Epoch 14/100\n",
      "6/6 [==============================] - 0s 15ms/step - loss: 1.2691 - accuracy: 0.5659\n",
      "Epoch 15/100\n",
      "6/6 [==============================] - 0s 15ms/step - loss: 1.2338 - accuracy: 0.5824\n",
      "Epoch 16/100\n",
      "6/6 [==============================] - 0s 16ms/step - loss: 1.2003 - accuracy: 0.5934\n",
      "Epoch 17/100\n",
      "6/6 [==============================] - 0s 16ms/step - loss: 1.1655 - accuracy: 0.5989\n",
      "Epoch 18/100\n",
      "6/6 [==============================] - 0s 16ms/step - loss: 1.1280 - accuracy: 0.6374\n",
      "Epoch 19/100\n",
      "6/6 [==============================] - 0s 16ms/step - loss: 1.1121 - accuracy: 0.6209\n",
      "Epoch 20/100\n",
      "6/6 [==============================] - 0s 15ms/step - loss: 1.0653 - accuracy: 0.6538\n",
      "Epoch 21/100\n",
      "6/6 [==============================] - 0s 15ms/step - loss: 1.0294 - accuracy: 0.6593\n",
      "Epoch 22/100\n",
      "6/6 [==============================] - 0s 14ms/step - loss: 0.9944 - accuracy: 0.6758\n",
      "Epoch 23/100\n",
      "6/6 [==============================] - 0s 17ms/step - loss: 0.9584 - accuracy: 0.6758\n",
      "Epoch 24/100\n",
      "6/6 [==============================] - 0s 15ms/step - loss: 0.9256 - accuracy: 0.6758\n",
      "Epoch 25/100\n",
      "6/6 [==============================] - 0s 15ms/step - loss: 0.8951 - accuracy: 0.7033\n",
      "Epoch 26/100\n",
      "6/6 [==============================] - 0s 14ms/step - loss: 0.8648 - accuracy: 0.7198\n",
      "Epoch 27/100\n",
      "6/6 [==============================] - 0s 13ms/step - loss: 0.8263 - accuracy: 0.7308\n",
      "Epoch 28/100\n",
      "6/6 [==============================] - 0s 14ms/step - loss: 0.7975 - accuracy: 0.7418\n",
      "Epoch 29/100\n",
      "6/6 [==============================] - 0s 14ms/step - loss: 0.7713 - accuracy: 0.7582\n",
      "Epoch 30/100\n",
      "6/6 [==============================] - 0s 15ms/step - loss: 0.7435 - accuracy: 0.7473\n",
      "Epoch 31/100\n",
      "6/6 [==============================] - 0s 15ms/step - loss: 0.7227 - accuracy: 0.7857\n",
      "Epoch 32/100\n",
      "6/6 [==============================] - 0s 14ms/step - loss: 0.7009 - accuracy: 0.8022\n",
      "Epoch 33/100\n",
      "6/6 [==============================] - 0s 14ms/step - loss: 0.6752 - accuracy: 0.8132\n",
      "Epoch 34/100\n",
      "6/6 [==============================] - 0s 14ms/step - loss: 0.6524 - accuracy: 0.8132\n",
      "Epoch 35/100\n",
      "6/6 [==============================] - 0s 14ms/step - loss: 0.6323 - accuracy: 0.8297\n",
      "Epoch 36/100\n",
      "6/6 [==============================] - 0s 16ms/step - loss: 0.6169 - accuracy: 0.8297\n",
      "Epoch 37/100\n",
      "6/6 [==============================] - 0s 15ms/step - loss: 0.5987 - accuracy: 0.8681\n",
      "Epoch 38/100\n",
      "6/6 [==============================] - 0s 15ms/step - loss: 0.5843 - accuracy: 0.8516\n",
      "Epoch 39/100\n",
      "6/6 [==============================] - 0s 14ms/step - loss: 0.5639 - accuracy: 0.8736\n",
      "Epoch 40/100\n",
      "6/6 [==============================] - 0s 14ms/step - loss: 0.5471 - accuracy: 0.8736\n",
      "Epoch 41/100\n",
      "6/6 [==============================] - 0s 14ms/step - loss: 0.5499 - accuracy: 0.8846\n",
      "Epoch 42/100\n",
      "6/6 [==============================] - 0s 13ms/step - loss: 0.5297 - accuracy: 0.8846\n",
      "Epoch 43/100\n",
      "6/6 [==============================] - 0s 14ms/step - loss: 0.5132 - accuracy: 0.8956\n",
      "Epoch 44/100\n",
      "6/6 [==============================] - 0s 15ms/step - loss: 0.4954 - accuracy: 0.8956\n",
      "Epoch 45/100\n",
      "6/6 [==============================] - 0s 15ms/step - loss: 0.5236 - accuracy: 0.8681\n",
      "Epoch 46/100\n",
      "6/6 [==============================] - 0s 14ms/step - loss: 0.4946 - accuracy: 0.8846\n",
      "Epoch 47/100\n",
      "6/6 [==============================] - 0s 16ms/step - loss: 0.4827 - accuracy: 0.9341\n",
      "Epoch 48/100\n",
      "6/6 [==============================] - 0s 15ms/step - loss: 0.4801 - accuracy: 0.8736\n",
      "Epoch 49/100\n",
      "6/6 [==============================] - 0s 16ms/step - loss: 0.4595 - accuracy: 0.9231\n",
      "Epoch 50/100\n",
      "6/6 [==============================] - 0s 15ms/step - loss: 0.4583 - accuracy: 0.9231\n",
      "Epoch 51/100\n",
      "6/6 [==============================] - 0s 14ms/step - loss: 0.4469 - accuracy: 0.9286\n",
      "Epoch 52/100\n",
      "6/6 [==============================] - 0s 15ms/step - loss: 0.4229 - accuracy: 0.9341\n",
      "Epoch 53/100\n",
      "6/6 [==============================] - 0s 13ms/step - loss: 0.4070 - accuracy: 0.9451\n",
      "Epoch 54/100\n",
      "6/6 [==============================] - 0s 14ms/step - loss: 0.3994 - accuracy: 0.9451\n",
      "Epoch 55/100\n",
      "6/6 [==============================] - 0s 14ms/step - loss: 0.3965 - accuracy: 0.9505\n",
      "Epoch 56/100\n",
      "6/6 [==============================] - 0s 13ms/step - loss: 0.3780 - accuracy: 0.9615\n",
      "Epoch 57/100\n",
      "6/6 [==============================] - 0s 13ms/step - loss: 0.3700 - accuracy: 0.9560\n",
      "Epoch 58/100\n",
      "6/6 [==============================] - 0s 14ms/step - loss: 0.3653 - accuracy: 0.9560\n",
      "Epoch 59/100\n",
      "6/6 [==============================] - 0s 15ms/step - loss: 0.3519 - accuracy: 0.9615\n",
      "Epoch 60/100\n",
      "6/6 [==============================] - 0s 15ms/step - loss: 0.3460 - accuracy: 0.9615\n",
      "Epoch 61/100\n",
      "6/6 [==============================] - 0s 16ms/step - loss: 0.3379 - accuracy: 0.9725\n",
      "Epoch 62/100\n",
      "6/6 [==============================] - 0s 15ms/step - loss: 0.3353 - accuracy: 0.9615\n",
      "Epoch 63/100\n",
      "6/6 [==============================] - 0s 14ms/step - loss: 0.3310 - accuracy: 0.9725\n",
      "Epoch 64/100\n",
      "6/6 [==============================] - 0s 14ms/step - loss: 0.3224 - accuracy: 0.9725\n",
      "Epoch 65/100\n",
      "6/6 [==============================] - 0s 14ms/step - loss: 0.3112 - accuracy: 0.9725\n",
      "Epoch 66/100\n",
      "6/6 [==============================] - 0s 15ms/step - loss: 0.3163 - accuracy: 0.9670\n",
      "Epoch 67/100\n",
      "6/6 [==============================] - 0s 16ms/step - loss: 0.3003 - accuracy: 0.9780\n",
      "Epoch 68/100\n",
      "6/6 [==============================] - 0s 16ms/step - loss: 0.2948 - accuracy: 0.9780\n",
      "Epoch 69/100\n",
      "6/6 [==============================] - 0s 16ms/step - loss: 0.2894 - accuracy: 0.9780\n",
      "Epoch 70/100\n",
      "6/6 [==============================] - 0s 14ms/step - loss: 0.2842 - accuracy: 0.9780\n",
      "Epoch 71/100\n",
      "6/6 [==============================] - 0s 14ms/step - loss: 0.2832 - accuracy: 0.9780\n",
      "Epoch 72/100\n",
      "6/6 [==============================] - 0s 15ms/step - loss: 0.2770 - accuracy: 0.9780\n",
      "Epoch 73/100\n",
      "6/6 [==============================] - 0s 14ms/step - loss: 0.2727 - accuracy: 0.9780\n",
      "Epoch 74/100\n",
      "6/6 [==============================] - 0s 15ms/step - loss: 0.2673 - accuracy: 0.9780\n",
      "Epoch 75/100\n",
      "6/6 [==============================] - 0s 14ms/step - loss: 0.2638 - accuracy: 0.9780\n",
      "Epoch 76/100\n",
      "6/6 [==============================] - 0s 13ms/step - loss: 0.2604 - accuracy: 0.9780\n",
      "Epoch 77/100\n",
      "6/6 [==============================] - 0s 13ms/step - loss: 0.2567 - accuracy: 0.9780\n",
      "Epoch 78/100\n",
      "6/6 [==============================] - 0s 14ms/step - loss: 0.2537 - accuracy: 0.9780\n",
      "Epoch 79/100\n",
      "6/6 [==============================] - 0s 15ms/step - loss: 0.2510 - accuracy: 0.9780\n",
      "Epoch 80/100\n",
      "6/6 [==============================] - 0s 13ms/step - loss: 0.2480 - accuracy: 0.9780\n",
      "Epoch 81/100\n",
      "6/6 [==============================] - 0s 14ms/step - loss: 0.2459 - accuracy: 0.9780\n",
      "Epoch 82/100\n",
      "6/6 [==============================] - 0s 14ms/step - loss: 0.2433 - accuracy: 0.9780\n",
      "Epoch 83/100\n"
     ]
    },
    {
     "name": "stdout",
     "output_type": "stream",
     "text": [
      "6/6 [==============================] - 0s 15ms/step - loss: 0.2408 - accuracy: 0.9780\n",
      "Epoch 84/100\n",
      "6/6 [==============================] - 0s 16ms/step - loss: 0.2381 - accuracy: 0.9780\n",
      "Epoch 85/100\n",
      "6/6 [==============================] - 0s 14ms/step - loss: 0.2359 - accuracy: 0.9780\n",
      "Epoch 86/100\n",
      "6/6 [==============================] - 0s 14ms/step - loss: 0.2335 - accuracy: 0.9780\n",
      "Epoch 87/100\n",
      "6/6 [==============================] - 0s 14ms/step - loss: 0.2314 - accuracy: 0.9780\n",
      "Epoch 88/100\n",
      "6/6 [==============================] - 0s 15ms/step - loss: 0.2293 - accuracy: 0.9780\n",
      "Epoch 89/100\n",
      "6/6 [==============================] - 0s 17ms/step - loss: 0.2272 - accuracy: 0.9780\n",
      "Epoch 90/100\n",
      "6/6 [==============================] - 0s 17ms/step - loss: 0.2252 - accuracy: 0.9780\n",
      "Epoch 91/100\n",
      "6/6 [==============================] - 0s 16ms/step - loss: 0.2233 - accuracy: 0.9780\n",
      "Epoch 92/100\n",
      "6/6 [==============================] - 0s 15ms/step - loss: 0.2214 - accuracy: 0.9780\n",
      "Epoch 93/100\n",
      "6/6 [==============================] - 0s 13ms/step - loss: 0.2196 - accuracy: 0.9780\n",
      "Epoch 94/100\n",
      "6/6 [==============================] - 0s 14ms/step - loss: 0.2178 - accuracy: 0.9780\n",
      "Epoch 95/100\n",
      "6/6 [==============================] - 0s 14ms/step - loss: 0.2160 - accuracy: 0.9780\n",
      "Epoch 96/100\n",
      "6/6 [==============================] - 0s 16ms/step - loss: 0.2143 - accuracy: 0.9780\n",
      "Epoch 97/100\n",
      "6/6 [==============================] - 0s 16ms/step - loss: 0.2125 - accuracy: 0.9780\n",
      "Epoch 98/100\n",
      "6/6 [==============================] - 0s 15ms/step - loss: 0.2108 - accuracy: 0.9780\n",
      "Epoch 99/100\n",
      "6/6 [==============================] - 0s 14ms/step - loss: 0.2092 - accuracy: 0.9780\n",
      "Epoch 100/100\n",
      "6/6 [==============================] - 0s 15ms/step - loss: 0.2075 - accuracy: 0.9780\n"
     ]
    }
   ],
   "source": [
    "history=model.fit(Xtrain, Ytrain, epochs = 100)"
   ]
  },
  {
   "cell_type": "code",
   "execution_count": 45,
   "id": "convertible-spider",
   "metadata": {},
   "outputs": [
    {
     "name": "stdout",
     "output_type": "stream",
     "text": [
      "I feel good 😃\n",
      "I feel very bad 😞\n",
      "lets eat dinner 🍽️\n"
     ]
    }
   ],
   "source": [
    "test = [\"I feel good\", \"I feel very bad\", \"lets eat dinner\"]\n",
    "\n",
    "test_seq = tokenizer.texts_to_sequences(test)\n",
    "Xtest = pad_sequences(test_seq, maxlen = maxlen, padding = 'post', truncating = 'post')\n",
    "\n",
    "y_pred = model.predict(Xtest)\n",
    "y_pred = np.argmax(y_pred, axis = 1)\n",
    "\n",
    "for i in range(len(test)):\n",
    "    print(test[i], label_to_emoji(y_pred[i]))"
   ]
  },
  {
   "cell_type": "code",
   "execution_count": 18,
   "id": "2ad07826",
   "metadata": {},
   "outputs": [],
   "source": [
    "import tkinter\n",
    "from tkinter import messagebox"
   ]
  },
  {
   "cell_type": "code",
   "execution_count": 20,
   "id": "incorporated-detector",
   "metadata": {},
   "outputs": [],
   "source": [
    "def check(*args):\n",
    "    \n",
    "    test = [str(e1.get())]\n",
    "\n",
    "    test_seq = tokenizer.texts_to_sequences(test)\n",
    "    Xtest = pad_sequences(test_seq, maxlen = maxlen, padding = 'post', truncating = 'post')\n",
    "\n",
    "    y_pred = model.predict(Xtest)\n",
    "    y_pred = np.argmax(y_pred, axis = 1)\n",
    "\n",
    "    for i in range(len(test)):\n",
    "        outtext=test[i]+label_to_emoji(y_pred[i])\n",
    "    messagebox.showinfo(\"Alert\",outtext)"
   ]
  },
  {
   "cell_type": "code",
   "execution_count": 21,
   "id": "5d4421a2",
   "metadata": {},
   "outputs": [],
   "source": [
    "root=tkinter.Tk()\n",
    "root.geometry(\"200x200\")\n",
    "e1=tkinter.Entry(root)\n",
    "e1.grid(row=1,column=3)\n",
    "b1=tkinter.Button(root,command=check,text=\"press\")\n",
    "b1.grid(row=2,column=3)\n",
    "lab1=tkinter.Label(root)\n",
    "lab1.grid(row=3,column=1)\n",
    "\n",
    "root.mainloop()"
   ]
  },
  {
   "cell_type": "code",
   "execution_count": 19,
   "id": "d4b2255c",
   "metadata": {},
   "outputs": [
    {
     "data": {
      "image/png": "[encoded data removed]",
      "text/plain": [
       "<Figure size 640x480 with 1 Axes>"
      ]
     },
     "metadata": {},
     "output_type": "display_data"
    }
   ],
   "source": [
    "plt.plot(history.history['accuracy'])\n",
    "plt.title('model accuracy')\n",
    "plt.ylabel('accuracy')\n",
    "plt.xlabel('epoch')\n",
    "plt.legend(['train', 'test'], loc='upper left')\n",
    "plt.show()"
   ]
  },
  {
   "cell_type": "code",
   "execution_count": 20,
   "id": "a66e0b6a",
   "metadata": {},
   "outputs": [
    {
     "data": {
      "image/png": "[encoded data removed]",
      "text/plain": [
       "<Figure size 640x480 with 1 Axes>"
      ]
     },
     "metadata": {},
     "output_type": "display_data"
    }
   ],
   "source": [
    "plt.plot(history.history['loss'])\n",
    "plt.title('model loss')\n",
    "plt.ylabel('loss')\n",
    "plt.xlabel('epoch')\n",
    "plt.legend(['train', 'test'], loc='upper left')\n",
    "plt.show()"
   ]
  },
  {
   "cell_type": "code",
   "execution_count": null,
   "id": "a5348e23",
   "metadata": {},
   "outputs": [],
   "source": []
  }
 ],
 "metadata": {
  "kernelspec": {
   "display_name": "Python 3 (ipykernel)",
   "language": "python",
   "name": "python3"
  },
  "language_info": {
   "codemirror_mode": {
    "name": "ipython",
    "version": 3
   },
   "file_extension": ".py",
   "mimetype": "text/x-python",
   "name": "python",
   "nbconvert_exporter": "python",
   "pygments_lexer": "ipython3",
   "version": "3.9.16"
  }
 },
 "nbformat": 4,
 "nbformat_minor": 5
}
