{
 "cells": [
  {
   "cell_type": "code",
   "execution_count": 61,
   "id": "confidential-intermediate",
   "metadata": {},
   "outputs": [],
   "source": [
    "import numpy as np\n",
    "import pandas as pd\n",
    "import emoji\n",
    "\n",
    "from keras.models import Sequential\n",
    "from keras.layers import Dense, LSTM, SimpleRNN, Embedding\n",
    "\n",
    "from keras.preprocessing.text import Tokenizer\n",
    "from keras.preprocessing.sequence import pad_sequences\n",
    "from tensorflow.keras.utils import to_categorical"
   ]
  },
  {
   "cell_type": "code",
   "execution_count": 80,
   "id": "future-seeking",
   "metadata": {},
   "outputs": [
    {
     "data": {
      "text/html": [
       "<div>\n",
       "<style scoped>\n",
       "    .dataframe tbody tr th:only-of-type {\n",
       "        vertical-align: middle;\n",
       "    }\n",
       "\n",
       "    .dataframe tbody tr th {\n",
       "        vertical-align: top;\n",
       "    }\n",
       "\n",
       "    .dataframe thead th {\n",
       "        text-align: right;\n",
       "    }\n",
       "</style>\n",
       "<table border=\"1\" class=\"dataframe\">\n",
       "  <thead>\n",
       "    <tr style=\"text-align: right;\">\n",
       "      <th></th>\n",
       "      <th>0</th>\n",
       "      <th>1</th>\n",
       "    </tr>\n",
       "  </thead>\n",
       "  <tbody>\n",
       "    <tr>\n",
       "      <th>0</th>\n",
       "      <td>French macaroon is so tasty</td>\n",
       "      <td>4</td>\n",
       "    </tr>\n",
       "    <tr>\n",
       "      <th>1</th>\n",
       "      <td>work is horrible</td>\n",
       "      <td>3</td>\n",
       "    </tr>\n",
       "    <tr>\n",
       "      <th>2</th>\n",
       "      <td>I am upset</td>\n",
       "      <td>3</td>\n",
       "    </tr>\n",
       "    <tr>\n",
       "      <th>3</th>\n",
       "      <td>throw the ball</td>\n",
       "      <td>1</td>\n",
       "    </tr>\n",
       "    <tr>\n",
       "      <th>4</th>\n",
       "      <td>Good joke</td>\n",
       "      <td>2</td>\n",
       "    </tr>\n",
       "  </tbody>\n",
       "</table>\n",
       "</div>"
      ],
      "text/plain": [
       "                             0   1\n",
       "0  French macaroon is so tasty   4\n",
       "1             work is horrible   3\n",
       "2                   I am upset  3 \n",
       "3               throw the ball  1 \n",
       "4                    Good joke   2"
      ]
     },
     "execution_count": 80,
     "metadata": {},
     "output_type": "execute_result"
    }
   ],
   "source": [
    "data = pd.read_csv('emoji_data.csv', header = None)\n",
    "data.head()\n"
   ]
  },
  {
   "cell_type": "code",
   "execution_count": 63,
   "id": "e900641e",
   "metadata": {},
   "outputs": [],
   "source": [
    "data=data.dropna()"
   ]
  },
  {
   "cell_type": "code",
   "execution_count": 64,
   "id": "hollywood-simulation",
   "metadata": {},
   "outputs": [],
   "source": [
    "emoji_dict = {\n",
    "    0: \":red_heart:\",\n",
    "    1: \":baseball:\",\n",
    "    2: \":grinning_face_with_big_eyes:\",\n",
    "    3: \":disappointed_face:\",\n",
    "    4: \":fork_and_knife_with_plate:\"\n",
    "}\n",
    "\n",
    "def label_to_emoji(label):\n",
    "    return emoji.emojize(emoji_dict[label])"
   ]
  },
  {
   "cell_type": "code",
   "execution_count": 65,
   "id": "indoor-recipient",
   "metadata": {},
   "outputs": [],
   "source": [
    "X = data[0].values\n",
    "Y = data[1].values\n",
    "X=np.delete(X,29)\n",
    "Y=np.delete(Y,29)"
   ]
  },
  {
   "cell_type": "code",
   "execution_count": null,
   "id": "582d4e51",
   "metadata": {},
   "outputs": [],
   "source": []
  },
  {
   "cell_type": "markdown",
   "id": "concerned-oxide",
   "metadata": {},
   "source": [
    "# Embeddings"
   ]
  },
  {
   "cell_type": "code",
   "execution_count": 66,
   "id": "buried-opposition",
   "metadata": {},
   "outputs": [],
   "source": [
    "file = open('glove.6B.100d.txt', 'r', encoding = 'utf8')\n",
    "content = file.readlines()\n",
    "file.close()\n",
    "\n",
    "# content"
   ]
  },
  {
   "cell_type": "code",
   "execution_count": 67,
   "id": "based-response",
   "metadata": {},
   "outputs": [],
   "source": [
    "embeddings = {}\n",
    "\n",
    "for line in content:\n",
    "    line = line.split()\n",
    "    embeddings[line[0]] = np.array(line[1:], dtype = float)"
   ]
  },
  {
   "cell_type": "code",
   "execution_count": 68,
   "id": "coordinate-color",
   "metadata": {},
   "outputs": [],
   "source": [
    "def get_maxlen(data):\n",
    "    maxlen = 0\n",
    "    for sent in data:\n",
    "        maxlen = max(maxlen, len(sent))\n",
    "    return maxlen\n",
    "\n"
   ]
  },
  {
   "cell_type": "code",
   "execution_count": 69,
   "id": "manual-maryland",
   "metadata": {},
   "outputs": [],
   "source": [
    "tokenizer = Tokenizer()\n",
    "tokenizer.fit_on_texts(X)\n",
    "word2index = tokenizer.word_index"
   ]
  },
  {
   "cell_type": "code",
   "execution_count": 70,
   "id": "recovered-fortune",
   "metadata": {},
   "outputs": [],
   "source": [
    "Xtokens = tokenizer.texts_to_sequences(X)\n"
   ]
  },
  {
   "cell_type": "code",
   "execution_count": 71,
   "id": "36b88eba",
   "metadata": {},
   "outputs": [
    {
     "name": "stdout",
     "output_type": "stream",
     "text": [
      "10\n"
     ]
    }
   ],
   "source": [
    "maxlen = get_maxlen(Xtokens)\n",
    "print(maxlen)"
   ]
  },
  {
   "cell_type": "code",
   "execution_count": 72,
   "id": "e01666bc",
   "metadata": {},
   "outputs": [],
   "source": [
    "Xtrain = pad_sequences(Xtokens, maxlen = maxlen,  padding = 'post', truncating = 'post')"
   ]
  },
  {
   "cell_type": "code",
   "execution_count": 73,
   "id": "polyphonic-cannon",
   "metadata": {},
   "outputs": [],
   "source": [
    "Ytrain = to_categorical(Y)"
   ]
  },
  {
   "cell_type": "markdown",
   "id": "greatest-violin",
   "metadata": {},
   "source": [
    "# Model"
   ]
  },
  {
   "cell_type": "code",
   "execution_count": 74,
   "id": "intended-rapid",
   "metadata": {},
   "outputs": [],
   "source": [
    "embed_size = 100\n",
    "embedding_matrix = np.zeros((len(word2index)+1, embed_size))\n",
    "\n",
    "for word, i in word2index.items():\n",
    "    embed_vector = embeddings[word]\n",
    "    embedding_matrix[i] = embed_vector"
   ]
  },
  {
   "cell_type": "code",
   "execution_count": 75,
   "id": "weighted-relationship",
   "metadata": {},
   "outputs": [
    {
     "data": {
      "text/plain": [
       "array([[ 0.      ,  0.      ,  0.      , ...,  0.      ,  0.      ,\n",
       "         0.      ],\n",
       "       [-0.046539,  0.61966 ,  0.56647 , ..., -0.37616 , -0.032502,\n",
       "         0.8062  ],\n",
       "       [-0.49886 ,  0.76602 ,  0.89751 , ..., -0.41179 ,  0.40539 ,\n",
       "         0.78504 ],\n",
       "       ...,\n",
       "       [-0.46263 ,  0.069864,  0.69095 , ..., -0.29174 ,  0.32041 ,\n",
       "         0.21202 ],\n",
       "       [ 0.073242,  0.11134 ,  0.62281 , ...,  0.53417 , -0.1646  ,\n",
       "        -0.27516 ],\n",
       "       [ 0.29019 ,  0.80497 ,  0.31187 , ..., -0.33603 ,  0.45998 ,\n",
       "        -0.11278 ]])"
      ]
     },
     "execution_count": 75,
     "metadata": {},
     "output_type": "execute_result"
    }
   ],
   "source": [
    "embedding_matrix"
   ]
  },
  {
   "cell_type": "code",
   "execution_count": 76,
   "id": "homeless-single",
   "metadata": {},
   "outputs": [],
   "source": [
    "model = Sequential([\n",
    "    Embedding(input_dim = len(word2index) + 1,\n",
    "              output_dim = embed_size,\n",
    "              input_length = maxlen,\n",
    "              weights = [embedding_matrix],\n",
    "              trainable = False\n",
    "             ),\n",
    "    \n",
    "    LSTM(units = 16, return_sequences = True),\n",
    "    LSTM(units = 4),\n",
    "    Dense(5, activation = 'softmax')\n",
    "])\n",
    "\n",
    "model.compile(optimizer = 'adam', loss = 'categorical_crossentropy', metrics = ['accuracy'])"
   ]
  },
  {
   "cell_type": "code",
   "execution_count": 77,
   "id": "technical-possible",
   "metadata": {},
   "outputs": [
    {
     "name": "stdout",
     "output_type": "stream",
     "text": [
      "Epoch 1/100\n",
      "6/6 [==============================] - 5s 7ms/step - loss: 1.5983 - accuracy: 0.2747\n",
      "Epoch 2/100\n",
      "6/6 [==============================] - 0s 6ms/step - loss: 1.5653 - accuracy: 0.3077\n",
      "Epoch 3/100\n",
      "6/6 [==============================] - 0s 6ms/step - loss: 1.5486 - accuracy: 0.2637\n",
      "Epoch 4/100\n",
      "6/6 [==============================] - 0s 6ms/step - loss: 1.5355 - accuracy: 0.2857\n",
      "Epoch 5/100\n",
      "6/6 [==============================] - 0s 6ms/step - loss: 1.5219 - accuracy: 0.3022\n",
      "Epoch 6/100\n",
      "6/6 [==============================] - 0s 5ms/step - loss: 1.5032 - accuracy: 0.3132\n",
      "Epoch 7/100\n",
      "6/6 [==============================] - 0s 5ms/step - loss: 1.4832 - accuracy: 0.3297\n",
      "Epoch 8/100\n",
      "6/6 [==============================] - 0s 5ms/step - loss: 1.4612 - accuracy: 0.3681\n",
      "Epoch 9/100\n",
      "6/6 [==============================] - 0s 5ms/step - loss: 1.4337 - accuracy: 0.4011\n",
      "Epoch 10/100\n",
      "6/6 [==============================] - 0s 5ms/step - loss: 1.4050 - accuracy: 0.4066\n",
      "Epoch 11/100\n",
      "6/6 [==============================] - 0s 5ms/step - loss: 1.3730 - accuracy: 0.4725\n",
      "Epoch 12/100\n",
      "6/6 [==============================] - 0s 7ms/step - loss: 1.3377 - accuracy: 0.5385\n",
      "Epoch 13/100\n",
      "6/6 [==============================] - 0s 6ms/step - loss: 1.3021 - accuracy: 0.5549\n",
      "Epoch 14/100\n",
      "6/6 [==============================] - 0s 6ms/step - loss: 1.2741 - accuracy: 0.6099\n",
      "Epoch 15/100\n",
      "6/6 [==============================] - 0s 6ms/step - loss: 1.2370 - accuracy: 0.6209\n",
      "Epoch 16/100\n",
      "6/6 [==============================] - 0s 6ms/step - loss: 1.2018 - accuracy: 0.6648\n",
      "Epoch 17/100\n",
      "6/6 [==============================] - 0s 6ms/step - loss: 1.1699 - accuracy: 0.6978\n",
      "Epoch 18/100\n",
      "6/6 [==============================] - 0s 6ms/step - loss: 1.1328 - accuracy: 0.7143\n",
      "Epoch 19/100\n",
      "6/6 [==============================] - 0s 6ms/step - loss: 1.1015 - accuracy: 0.7198\n",
      "Epoch 20/100\n",
      "6/6 [==============================] - 0s 6ms/step - loss: 1.0692 - accuracy: 0.7582\n",
      "Epoch 21/100\n",
      "6/6 [==============================] - 0s 6ms/step - loss: 1.0401 - accuracy: 0.7253\n",
      "Epoch 22/100\n",
      "6/6 [==============================] - 0s 6ms/step - loss: 1.0079 - accuracy: 0.7747\n",
      "Epoch 23/100\n",
      "6/6 [==============================] - 0s 6ms/step - loss: 0.9787 - accuracy: 0.7747\n",
      "Epoch 24/100\n",
      "6/6 [==============================] - 0s 6ms/step - loss: 0.9479 - accuracy: 0.7912\n",
      "Epoch 25/100\n",
      "6/6 [==============================] - 0s 6ms/step - loss: 0.9176 - accuracy: 0.8187\n",
      "Epoch 26/100\n",
      "6/6 [==============================] - 0s 6ms/step - loss: 0.8824 - accuracy: 0.8352\n",
      "Epoch 27/100\n",
      "6/6 [==============================] - 0s 5ms/step - loss: 0.8524 - accuracy: 0.8516\n",
      "Epoch 28/100\n",
      "6/6 [==============================] - 0s 6ms/step - loss: 0.8298 - accuracy: 0.8516\n",
      "Epoch 29/100\n",
      "6/6 [==============================] - 0s 5ms/step - loss: 0.8008 - accuracy: 0.8681\n",
      "Epoch 30/100\n",
      "6/6 [==============================] - 0s 5ms/step - loss: 0.7859 - accuracy: 0.8681\n",
      "Epoch 31/100\n",
      "6/6 [==============================] - 0s 5ms/step - loss: 0.7389 - accuracy: 0.8956\n",
      "Epoch 32/100\n",
      "6/6 [==============================] - 0s 5ms/step - loss: 0.7186 - accuracy: 0.9286\n",
      "Epoch 33/100\n",
      "6/6 [==============================] - 0s 5ms/step - loss: 0.6923 - accuracy: 0.9341\n",
      "Epoch 34/100\n",
      "6/6 [==============================] - 0s 5ms/step - loss: 0.6782 - accuracy: 0.9121\n",
      "Epoch 35/100\n",
      "6/6 [==============================] - 0s 5ms/step - loss: 0.6490 - accuracy: 0.9341\n",
      "Epoch 36/100\n",
      "6/6 [==============================] - 0s 5ms/step - loss: 0.6489 - accuracy: 0.9286\n",
      "Epoch 37/100\n",
      "6/6 [==============================] - 0s 5ms/step - loss: 0.6240 - accuracy: 0.9341\n",
      "Epoch 38/100\n",
      "6/6 [==============================] - 0s 5ms/step - loss: 0.5766 - accuracy: 0.9615\n",
      "Epoch 39/100\n",
      "6/6 [==============================] - 0s 6ms/step - loss: 0.5630 - accuracy: 0.9451\n",
      "Epoch 40/100\n",
      "6/6 [==============================] - 0s 7ms/step - loss: 0.5460 - accuracy: 0.9560\n",
      "Epoch 41/100\n",
      "6/6 [==============================] - 0s 7ms/step - loss: 0.5271 - accuracy: 0.9560\n",
      "Epoch 42/100\n",
      "6/6 [==============================] - 0s 7ms/step - loss: 0.5094 - accuracy: 0.9615\n",
      "Epoch 43/100\n",
      "6/6 [==============================] - 0s 6ms/step - loss: 0.4959 - accuracy: 0.9615\n",
      "Epoch 44/100\n",
      "6/6 [==============================] - 0s 6ms/step - loss: 0.4825 - accuracy: 0.9670\n",
      "Epoch 45/100\n",
      "6/6 [==============================] - 0s 6ms/step - loss: 0.4699 - accuracy: 0.9670\n",
      "Epoch 46/100\n",
      "6/6 [==============================] - 0s 6ms/step - loss: 0.4492 - accuracy: 0.9725\n",
      "Epoch 47/100\n",
      "6/6 [==============================] - 0s 6ms/step - loss: 0.4383 - accuracy: 0.9725\n",
      "Epoch 48/100\n",
      "6/6 [==============================] - 0s 6ms/step - loss: 0.4260 - accuracy: 0.9780\n",
      "Epoch 49/100\n",
      "6/6 [==============================] - 0s 6ms/step - loss: 0.4157 - accuracy: 0.9780\n",
      "Epoch 50/100\n",
      "6/6 [==============================] - 0s 6ms/step - loss: 0.4059 - accuracy: 0.9780\n",
      "Epoch 51/100\n",
      "6/6 [==============================] - 0s 6ms/step - loss: 0.3979 - accuracy: 0.9780\n",
      "Epoch 52/100\n",
      "6/6 [==============================] - 0s 6ms/step - loss: 0.3940 - accuracy: 0.9725\n",
      "Epoch 53/100\n",
      "6/6 [==============================] - 0s 6ms/step - loss: 0.3816 - accuracy: 0.9835\n",
      "Epoch 54/100\n",
      "6/6 [==============================] - 0s 6ms/step - loss: 0.3745 - accuracy: 0.9835\n",
      "Epoch 55/100\n",
      "6/6 [==============================] - 0s 6ms/step - loss: 0.3686 - accuracy: 0.9835\n",
      "Epoch 56/100\n",
      "6/6 [==============================] - 0s 5ms/step - loss: 0.3568 - accuracy: 0.9835\n",
      "Epoch 57/100\n",
      "6/6 [==============================] - 0s 5ms/step - loss: 0.3492 - accuracy: 0.9835\n",
      "Epoch 58/100\n",
      "6/6 [==============================] - 0s 5ms/step - loss: 0.3443 - accuracy: 0.9835\n",
      "Epoch 59/100\n",
      "6/6 [==============================] - 0s 5ms/step - loss: 0.3375 - accuracy: 0.9835\n",
      "Epoch 60/100\n",
      "6/6 [==============================] - 0s 5ms/step - loss: 0.3320 - accuracy: 0.9835\n",
      "Epoch 61/100\n",
      "6/6 [==============================] - 0s 5ms/step - loss: 0.3268 - accuracy: 0.9835\n",
      "Epoch 62/100\n",
      "6/6 [==============================] - 0s 5ms/step - loss: 0.3216 - accuracy: 0.9835\n",
      "Epoch 63/100\n",
      "6/6 [==============================] - 0s 5ms/step - loss: 0.3169 - accuracy: 0.9835\n",
      "Epoch 64/100\n",
      "6/6 [==============================] - 0s 5ms/step - loss: 0.3122 - accuracy: 0.9835\n",
      "Epoch 65/100\n",
      "6/6 [==============================] - 0s 5ms/step - loss: 0.3077 - accuracy: 0.9835\n",
      "Epoch 66/100\n",
      "6/6 [==============================] - 0s 5ms/step - loss: 0.3033 - accuracy: 0.9835\n",
      "Epoch 67/100\n",
      "6/6 [==============================] - 0s 6ms/step - loss: 0.2992 - accuracy: 0.9835\n",
      "Epoch 68/100\n",
      "6/6 [==============================] - 0s 6ms/step - loss: 0.2952 - accuracy: 0.9835\n",
      "Epoch 69/100\n",
      "6/6 [==============================] - 0s 7ms/step - loss: 0.2915 - accuracy: 0.9835\n",
      "Epoch 70/100\n",
      "6/6 [==============================] - 0s 5ms/step - loss: 0.2877 - accuracy: 0.9835\n",
      "Epoch 71/100\n",
      "6/6 [==============================] - 0s 6ms/step - loss: 0.2842 - accuracy: 0.9835\n",
      "Epoch 72/100\n",
      "6/6 [==============================] - 0s 6ms/step - loss: 0.2806 - accuracy: 0.9835\n",
      "Epoch 73/100\n",
      "6/6 [==============================] - 0s 6ms/step - loss: 0.2773 - accuracy: 0.9835\n",
      "Epoch 74/100\n",
      "6/6 [==============================] - 0s 6ms/step - loss: 0.2740 - accuracy: 0.9835\n",
      "Epoch 75/100\n",
      "6/6 [==============================] - 0s 6ms/step - loss: 0.2708 - accuracy: 0.9835\n",
      "Epoch 76/100\n",
      "6/6 [==============================] - 0s 6ms/step - loss: 0.2677 - accuracy: 0.9835\n",
      "Epoch 77/100\n",
      "6/6 [==============================] - 0s 6ms/step - loss: 0.2647 - accuracy: 0.9835\n",
      "Epoch 78/100\n",
      "6/6 [==============================] - 0s 6ms/step - loss: 0.2618 - accuracy: 0.9835\n",
      "Epoch 79/100\n",
      "6/6 [==============================] - 0s 6ms/step - loss: 0.2589 - accuracy: 0.9835\n",
      "Epoch 80/100\n",
      "6/6 [==============================] - 0s 6ms/step - loss: 0.2561 - accuracy: 0.9835\n",
      "Epoch 81/100\n",
      "6/6 [==============================] - 0s 6ms/step - loss: 0.2534 - accuracy: 0.9835\n",
      "Epoch 82/100\n",
      "6/6 [==============================] - 0s 6ms/step - loss: 0.2507 - accuracy: 0.9835\n",
      "Epoch 83/100\n",
      "6/6 [==============================] - 0s 6ms/step - loss: 0.2482 - accuracy: 0.9835\n",
      "Epoch 84/100\n"
     ]
    },
    {
     "name": "stdout",
     "output_type": "stream",
     "text": [
      "6/6 [==============================] - 0s 5ms/step - loss: 0.2457 - accuracy: 0.9835\n",
      "Epoch 85/100\n",
      "6/6 [==============================] - 0s 6ms/step - loss: 0.2432 - accuracy: 0.9835\n",
      "Epoch 86/100\n",
      "6/6 [==============================] - 0s 6ms/step - loss: 0.2408 - accuracy: 0.9835\n",
      "Epoch 87/100\n",
      "6/6 [==============================] - 0s 6ms/step - loss: 0.2385 - accuracy: 0.9835\n",
      "Epoch 88/100\n",
      "6/6 [==============================] - 0s 5ms/step - loss: 0.2360 - accuracy: 0.9835\n",
      "Epoch 89/100\n",
      "6/6 [==============================] - 0s 5ms/step - loss: 0.2339 - accuracy: 0.9835\n",
      "Epoch 90/100\n",
      "6/6 [==============================] - 0s 5ms/step - loss: 0.2316 - accuracy: 0.9835\n",
      "Epoch 91/100\n",
      "6/6 [==============================] - 0s 5ms/step - loss: 0.2294 - accuracy: 0.9835\n",
      "Epoch 92/100\n",
      "6/6 [==============================] - 0s 5ms/step - loss: 0.2273 - accuracy: 0.9835\n",
      "Epoch 93/100\n",
      "6/6 [==============================] - 0s 5ms/step - loss: 0.2253 - accuracy: 0.9835\n",
      "Epoch 94/100\n",
      "6/6 [==============================] - 0s 6ms/step - loss: 0.2233 - accuracy: 0.9835\n",
      "Epoch 95/100\n",
      "6/6 [==============================] - 0s 7ms/step - loss: 0.2212 - accuracy: 0.9835\n",
      "Epoch 96/100\n",
      "6/6 [==============================] - 0s 7ms/step - loss: 0.2193 - accuracy: 0.9835\n",
      "Epoch 97/100\n",
      "6/6 [==============================] - 0s 7ms/step - loss: 0.2173 - accuracy: 0.9835\n",
      "Epoch 98/100\n",
      "6/6 [==============================] - 0s 6ms/step - loss: 0.2155 - accuracy: 0.9835\n",
      "Epoch 99/100\n",
      "6/6 [==============================] - 0s 6ms/step - loss: 0.2136 - accuracy: 0.9835\n",
      "Epoch 100/100\n",
      "6/6 [==============================] - 0s 6ms/step - loss: 0.2118 - accuracy: 0.9835\n"
     ]
    },
    {
     "data": {
      "text/plain": [
       "<keras.callbacks.History at 0x1fe8899f580>"
      ]
     },
     "execution_count": 77,
     "metadata": {},
     "output_type": "execute_result"
    }
   ],
   "source": [
    "model.fit(Xtrain, Ytrain, epochs = 100)"
   ]
  },
  {
   "cell_type": "code",
   "execution_count": 78,
   "id": "convertible-spider",
   "metadata": {},
   "outputs": [
    {
     "name": "stdout",
     "output_type": "stream",
     "text": [
      "I feel good 😃\n",
      "I feel very bad 😞\n",
      "lets eat dinner 🍽️\n"
     ]
    }
   ],
   "source": [
    "test = [\"I feel good\", \"I feel very bad\", \"lets eat dinner\"]\n",
    "\n",
    "test_seq = tokenizer.texts_to_sequences(test)\n",
    "Xtest = pad_sequences(test_seq, maxlen = maxlen, padding = 'post', truncating = 'post')\n",
    "\n",
    "y_pred = model.predict(Xtest)\n",
    "y_pred = np.argmax(y_pred, axis = 1)\n",
    "\n",
    "for i in range(len(test)):\n",
    "    print(test[i], label_to_emoji(y_pred[i]))"
   ]
  },
  {
   "cell_type": "code",
   "execution_count": 116,
   "id": "incorporated-detector",
   "metadata": {},
   "outputs": [],
   "source": [
    "def check(*args):\n",
    "    \n",
    "    test = [str(e1.get())]\n",
    "\n",
    "    test_seq = tokenizer.texts_to_sequences(test)\n",
    "    Xtest = pad_sequences(test_seq, maxlen = maxlen, padding = 'post', truncating = 'post')\n",
    "\n",
    "    y_pred = model.predict(Xtest)\n",
    "    y_pred = np.argmax(y_pred, axis = 1)\n",
    "\n",
    "    for i in range(len(test)):\n",
    "        outtext=test[i]+label_to_emoji(y_pred[i])\n",
    "    messagebox.showinfo(\"Alert\",outtext)"
   ]
  },
  {
   "cell_type": "code",
   "execution_count": 127,
   "id": "5d4421a2",
   "metadata": {},
   "outputs": [],
   "source": [
    "root=tkinter.Tk()\n",
    "root.geometry(\"200x200\")\n",
    "e1=tkinter.Entry(root)\n",
    "e1.grid(row=1,column=3)\n",
    "b1=tkinter.Button(root,command=check,text=\"press\")\n",
    "b1.grid(row=2,column=3)\n",
    "lab1=tkinter.Label(root)\n",
    "lab1.grid(row=3,column=1)\n",
    "\n",
    "root.mainloop()"
   ]
  },
  {
   "cell_type": "code",
   "execution_count": 91,
   "id": "2ad07826",
   "metadata": {},
   "outputs": [],
   "source": [
    "import tkinter\n",
    "from tkinter import messagebox"
   ]
  },
  {
   "cell_type": "code",
   "execution_count": null,
   "id": "d4b2255c",
   "metadata": {},
   "outputs": [],
   "source": []
  }
 ],
 "metadata": {
  "kernelspec": {
   "display_name": "Python 3 (ipykernel)",
   "language": "python",
   "name": "python3"
  },
  "language_info": {
   "codemirror_mode": {
    "name": "ipython",
    "version": 3
   },
   "file_extension": ".py",
   "mimetype": "text/x-python",
   "name": "python",
   "nbconvert_exporter": "python",
   "pygments_lexer": "ipython3",
   "version": "3.9.16"
  }
 },
 "nbformat": 4,
 "nbformat_minor": 5
}
