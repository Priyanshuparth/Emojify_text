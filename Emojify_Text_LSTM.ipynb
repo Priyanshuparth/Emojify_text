{
 "cells": [
  {
   "cell_type": "code",
   "execution_count": 38,
   "id": "confidential-intermediate",
   "metadata": {},
   "outputs": [],
   "source": [
    "import numpy as np\n",
    "import pandas as pd\n",
    "import emoji\n",
    "import matplotlib.pyplot as plt\n",
    "from keras.models import Sequential\n",
    "from keras.layers import Dense, LSTM, SimpleRNN, Embedding\n",
    "\n",
    "from keras.preprocessing.text import Tokenizer\n",
    "from keras_preprocessing.sequence import pad_sequences\n",
    "\n",
    "from tensorflow.keras.utils import to_categorical"
   ]
  },
  {
   "cell_type": "code",
   "execution_count": 39,
   "id": "future-seeking",
   "metadata": {},
   "outputs": [
    {
     "data": {
      "text/html": [
       "<div>\n",
       "<style scoped>\n",
       "    .dataframe tbody tr th:only-of-type {\n",
       "        vertical-align: middle;\n",
       "    }\n",
       "\n",
       "    .dataframe tbody tr th {\n",
       "        vertical-align: top;\n",
       "    }\n",
       "\n",
       "    .dataframe thead th {\n",
       "        text-align: right;\n",
       "    }\n",
       "</style>\n",
       "<table border=\"1\" class=\"dataframe\">\n",
       "  <thead>\n",
       "    <tr style=\"text-align: right;\">\n",
       "      <th></th>\n",
       "      <th>0</th>\n",
       "      <th>1</th>\n",
       "    </tr>\n",
       "  </thead>\n",
       "  <tbody>\n",
       "    <tr>\n",
       "      <th>0</th>\n",
       "      <td>maggie is so tasty</td>\n",
       "      <td>4</td>\n",
       "    </tr>\n",
       "    <tr>\n",
       "      <th>1</th>\n",
       "      <td>work is horrible</td>\n",
       "      <td>3</td>\n",
       "    </tr>\n",
       "    <tr>\n",
       "      <th>2</th>\n",
       "      <td>I am upset</td>\n",
       "      <td>3</td>\n",
       "    </tr>\n",
       "    <tr>\n",
       "      <th>3</th>\n",
       "      <td>throw the ball</td>\n",
       "      <td>1</td>\n",
       "    </tr>\n",
       "    <tr>\n",
       "      <th>4</th>\n",
       "      <td>Good joke</td>\n",
       "      <td>2</td>\n",
       "    </tr>\n",
       "  </tbody>\n",
       "</table>\n",
       "</div>"
      ],
      "text/plain": [
       "                    0   1\n",
       "0  maggie is so tasty   4\n",
       "1    work is horrible   3\n",
       "2          I am upset  3 \n",
       "3      throw the ball  1 \n",
       "4           Good joke   2"
      ]
     },
     "execution_count": 39,
     "metadata": {},
     "output_type": "execute_result"
    }
   ],
   "source": [
    "data = pd.read_csv('emoji_data.csv', header = None)\n",
    "data.head()\n"
   ]
  },
  {
   "cell_type": "code",
   "execution_count": 40,
   "id": "e900641e",
   "metadata": {},
   "outputs": [],
   "source": [
    "data=data.dropna()"
   ]
  },
  {
   "cell_type": "code",
   "execution_count": 41,
   "id": "hollywood-simulation",
   "metadata": {},
   "outputs": [],
   "source": [
    "emoji_dict = {\n",
    "    0: \":red_heart:\",\n",
    "    1: \":baseball:\",\n",
    "    2: \":grinning_face_with_big_eyes:\",\n",
    "    3: \":disappointed_face:\",\n",
    "    4: \":fork_and_knife_with_plate:\"\n",
    "}\n",
    "\n",
    "def label_to_emoji(label):\n",
    "    return emoji.emojize(emoji_dict[label])"
   ]
  },
  {
   "cell_type": "code",
   "execution_count": 42,
   "id": "indoor-recipient",
   "metadata": {},
   "outputs": [],
   "source": [
    "X = data[0].values\n",
    "Y = data[1].values\n",
    "X=np.delete(X,29)\n",
    "Y=np.delete(Y,29)"
   ]
  },
  {
   "cell_type": "code",
   "execution_count": null,
   "id": "582d4e51",
   "metadata": {},
   "outputs": [],
   "source": []
  },
  {
   "cell_type": "markdown",
   "id": "concerned-oxide",
   "metadata": {},
   "source": [
    "# Embeddings"
   ]
  },
  {
   "cell_type": "code",
   "execution_count": 43,
   "id": "buried-opposition",
   "metadata": {},
   "outputs": [],
   "source": [
    "file = open('glove.6B.100d.txt', 'r', encoding = 'utf8')\n",
    "content = file.readlines()\n",
    "file.close()\n",
    "\n",
    "# content"
   ]
  },
  {
   "cell_type": "code",
   "execution_count": 44,
   "id": "based-response",
   "metadata": {},
   "outputs": [],
   "source": [
    "embeddings = {}\n",
    "\n",
    "for line in content:\n",
    "    line = line.split()\n",
    "    embeddings[line[0]] = np.array(line[1:], dtype = float)"
   ]
  },
  {
   "cell_type": "code",
   "execution_count": 45,
   "id": "coordinate-color",
   "metadata": {},
   "outputs": [],
   "source": [
    "def get_maxlen(data):\n",
    "    maxlen = 0\n",
    "    for sent in data:\n",
    "        maxlen = max(maxlen, len(sent))\n",
    "    return maxlen\n",
    "\n"
   ]
  },
  {
   "cell_type": "code",
   "execution_count": 46,
   "id": "manual-maryland",
   "metadata": {},
   "outputs": [],
   "source": [
    "tokenizer = Tokenizer()\n",
    "tokenizer.fit_on_texts(X)\n",
    "word2index = tokenizer.word_index"
   ]
  },
  {
   "cell_type": "code",
   "execution_count": 47,
   "id": "recovered-fortune",
   "metadata": {},
   "outputs": [],
   "source": [
    "Xtokens = tokenizer.texts_to_sequences(X)\n"
   ]
  },
  {
   "cell_type": "code",
   "execution_count": 48,
   "id": "36b88eba",
   "metadata": {},
   "outputs": [
    {
     "name": "stdout",
     "output_type": "stream",
     "text": [
      "10\n"
     ]
    }
   ],
   "source": [
    "maxlen = get_maxlen(Xtokens)\n",
    "print(maxlen)"
   ]
  },
  {
   "cell_type": "code",
   "execution_count": 49,
   "id": "e01666bc",
   "metadata": {},
   "outputs": [],
   "source": [
    "Xtrain = pad_sequences(Xtokens, maxlen = maxlen,  padding = 'post', truncating = 'post')"
   ]
  },
  {
   "cell_type": "code",
   "execution_count": 50,
   "id": "polyphonic-cannon",
   "metadata": {},
   "outputs": [],
   "source": [
    "Ytrain = to_categorical(Y)"
   ]
  },
  {
   "cell_type": "markdown",
   "id": "greatest-violin",
   "metadata": {},
   "source": [
    "# Model"
   ]
  },
  {
   "cell_type": "code",
   "execution_count": 51,
   "id": "intended-rapid",
   "metadata": {},
   "outputs": [],
   "source": [
    "embed_size = 100\n",
    "embedding_matrix = np.zeros((len(word2index)+1, embed_size))\n",
    "\n",
    "for word, i in word2index.items():\n",
    "    embed_vector = embeddings[word]\n",
    "    embedding_matrix[i] = embed_vector"
   ]
  },
  {
   "cell_type": "code",
   "execution_count": 52,
   "id": "weighted-relationship",
   "metadata": {},
   "outputs": [
    {
     "data": {
      "text/plain": [
       "array([[ 0.      ,  0.      ,  0.      , ...,  0.      ,  0.      ,\n",
       "         0.      ],\n",
       "       [-0.046539,  0.61966 ,  0.56647 , ..., -0.37616 , -0.032502,\n",
       "         0.8062  ],\n",
       "       [-0.49886 ,  0.76602 ,  0.89751 , ..., -0.41179 ,  0.40539 ,\n",
       "         0.78504 ],\n",
       "       ...,\n",
       "       [-0.46263 ,  0.069864,  0.69095 , ..., -0.29174 ,  0.32041 ,\n",
       "         0.21202 ],\n",
       "       [ 0.073242,  0.11134 ,  0.62281 , ...,  0.53417 , -0.1646  ,\n",
       "        -0.27516 ],\n",
       "       [ 0.29019 ,  0.80497 ,  0.31187 , ..., -0.33603 ,  0.45998 ,\n",
       "        -0.11278 ]])"
      ]
     },
     "execution_count": 52,
     "metadata": {},
     "output_type": "execute_result"
    }
   ],
   "source": [
    "embedding_matrix"
   ]
  },
  {
   "cell_type": "code",
   "execution_count": 53,
   "id": "homeless-single",
   "metadata": {},
   "outputs": [],
   "source": [
    "model = Sequential([\n",
    "    Embedding(input_dim = len(word2index) + 1,\n",
    "              output_dim = embed_size,\n",
    "              input_length = maxlen,\n",
    "              weights = [embedding_matrix],\n",
    "              trainable = False\n",
    "             ),\n",
    "    \n",
    "    LSTM(units = 16, return_sequences = True),\n",
    "    LSTM(units = 4),\n",
    "    Dense(5, activation = 'softmax')\n",
    "])\n",
    "\n",
    "model.compile(optimizer = 'adam', loss = 'categorical_crossentropy', metrics = ['accuracy'])"
   ]
  },
  {
   "cell_type": "code",
   "execution_count": 54,
   "id": "technical-possible",
   "metadata": {},
   "outputs": [
    {
     "name": "stdout",
     "output_type": "stream",
     "text": [
      "Epoch 1/100\n",
      "6/6 [==============================] - 13s 16ms/step - loss: 1.5617 - accuracy: 0.2418\n",
      "Epoch 2/100\n",
      "6/6 [==============================] - 0s 14ms/step - loss: 1.5377 - accuracy: 0.2967\n",
      "Epoch 3/100\n",
      "6/6 [==============================] - 0s 15ms/step - loss: 1.5253 - accuracy: 0.2967\n",
      "Epoch 4/100\n",
      "6/6 [==============================] - 0s 15ms/step - loss: 1.5150 - accuracy: 0.3187\n",
      "Epoch 5/100\n",
      "6/6 [==============================] - 0s 15ms/step - loss: 1.5024 - accuracy: 0.3407\n",
      "Epoch 6/100\n",
      "6/6 [==============================] - 0s 15ms/step - loss: 1.4885 - accuracy: 0.3901\n",
      "Epoch 7/100\n",
      "6/6 [==============================] - 0s 15ms/step - loss: 1.4752 - accuracy: 0.4011\n",
      "Epoch 8/100\n",
      "6/6 [==============================] - 0s 15ms/step - loss: 1.4541 - accuracy: 0.4121\n",
      "Epoch 9/100\n",
      "6/6 [==============================] - 0s 16ms/step - loss: 1.4325 - accuracy: 0.4505\n",
      "Epoch 10/100\n",
      "6/6 [==============================] - 0s 14ms/step - loss: 1.4082 - accuracy: 0.4560\n",
      "Epoch 11/100\n",
      "6/6 [==============================] - 0s 15ms/step - loss: 1.3811 - accuracy: 0.4725\n",
      "Epoch 12/100\n",
      "6/6 [==============================] - 0s 15ms/step - loss: 1.3533 - accuracy: 0.5000\n",
      "Epoch 13/100\n",
      "6/6 [==============================] - 0s 16ms/step - loss: 1.3208 - accuracy: 0.5220\n",
      "Epoch 14/100\n",
      "6/6 [==============================] - 0s 15ms/step - loss: 1.2881 - accuracy: 0.5549\n",
      "Epoch 15/100\n",
      "6/6 [==============================] - 0s 15ms/step - loss: 1.2519 - accuracy: 0.6154\n",
      "Epoch 16/100\n",
      "6/6 [==============================] - 0s 15ms/step - loss: 1.2153 - accuracy: 0.6484\n",
      "Epoch 17/100\n",
      "6/6 [==============================] - 0s 16ms/step - loss: 1.1783 - accuracy: 0.6484\n",
      "Epoch 18/100\n",
      "6/6 [==============================] - 0s 15ms/step - loss: 1.1422 - accuracy: 0.6648\n",
      "Epoch 19/100\n",
      "6/6 [==============================] - 0s 15ms/step - loss: 1.1092 - accuracy: 0.6868\n",
      "Epoch 20/100\n",
      "6/6 [==============================] - 0s 15ms/step - loss: 1.0747 - accuracy: 0.7143\n",
      "Epoch 21/100\n",
      "6/6 [==============================] - 0s 15ms/step - loss: 1.0466 - accuracy: 0.6758\n",
      "Epoch 22/100\n",
      "6/6 [==============================] - 0s 15ms/step - loss: 1.0068 - accuracy: 0.7253\n",
      "Epoch 23/100\n",
      "6/6 [==============================] - 0s 16ms/step - loss: 0.9837 - accuracy: 0.7363\n",
      "Epoch 24/100\n",
      "6/6 [==============================] - 0s 16ms/step - loss: 0.9934 - accuracy: 0.6593\n",
      "Epoch 25/100\n",
      "6/6 [==============================] - 0s 16ms/step - loss: 0.9753 - accuracy: 0.7418\n",
      "Epoch 26/100\n",
      "6/6 [==============================] - 0s 16ms/step - loss: 0.9276 - accuracy: 0.6978\n",
      "Epoch 27/100\n",
      "6/6 [==============================] - 0s 17ms/step - loss: 0.8860 - accuracy: 0.8077\n",
      "Epoch 28/100\n",
      "6/6 [==============================] - 0s 16ms/step - loss: 0.8549 - accuracy: 0.8022\n",
      "Epoch 29/100\n",
      "6/6 [==============================] - 0s 16ms/step - loss: 0.8326 - accuracy: 0.8187\n",
      "Epoch 30/100\n",
      "6/6 [==============================] - 0s 18ms/step - loss: 0.8119 - accuracy: 0.8242\n",
      "Epoch 31/100\n",
      "6/6 [==============================] - 0s 17ms/step - loss: 0.7854 - accuracy: 0.8297\n",
      "Epoch 32/100\n",
      "6/6 [==============================] - 0s 18ms/step - loss: 0.7641 - accuracy: 0.8407\n",
      "Epoch 33/100\n",
      "6/6 [==============================] - 0s 17ms/step - loss: 0.7421 - accuracy: 0.8516\n",
      "Epoch 34/100\n",
      "6/6 [==============================] - 0s 17ms/step - loss: 0.7241 - accuracy: 0.8681\n",
      "Epoch 35/100\n",
      "6/6 [==============================] - 0s 15ms/step - loss: 0.7123 - accuracy: 0.8626\n",
      "Epoch 36/100\n",
      "6/6 [==============================] - 0s 18ms/step - loss: 0.7119 - accuracy: 0.8681\n",
      "Epoch 37/100\n",
      "6/6 [==============================] - 0s 16ms/step - loss: 0.6955 - accuracy: 0.8516\n",
      "Epoch 38/100\n",
      "6/6 [==============================] - 0s 17ms/step - loss: 0.6772 - accuracy: 0.8736\n",
      "Epoch 39/100\n",
      "6/6 [==============================] - 0s 17ms/step - loss: 0.6747 - accuracy: 0.8407\n",
      "Epoch 40/100\n",
      "6/6 [==============================] - 0s 16ms/step - loss: 0.6466 - accuracy: 0.8846\n",
      "Epoch 41/100\n",
      "6/6 [==============================] - 0s 16ms/step - loss: 0.6307 - accuracy: 0.9011\n",
      "Epoch 42/100\n",
      "6/6 [==============================] - 0s 16ms/step - loss: 0.6203 - accuracy: 0.9066\n",
      "Epoch 43/100\n",
      "6/6 [==============================] - 0s 17ms/step - loss: 0.6218 - accuracy: 0.9066\n",
      "Epoch 44/100\n",
      "6/6 [==============================] - 0s 18ms/step - loss: 0.6049 - accuracy: 0.9066\n",
      "Epoch 45/100\n",
      "6/6 [==============================] - 0s 17ms/step - loss: 0.5890 - accuracy: 0.9121\n",
      "Epoch 46/100\n",
      "6/6 [==============================] - 0s 17ms/step - loss: 0.5877 - accuracy: 0.8901\n",
      "Epoch 47/100\n",
      "6/6 [==============================] - 0s 17ms/step - loss: 0.5622 - accuracy: 0.9176\n",
      "Epoch 48/100\n",
      "6/6 [==============================] - 0s 17ms/step - loss: 0.5528 - accuracy: 0.9121\n",
      "Epoch 49/100\n",
      "6/6 [==============================] - 0s 17ms/step - loss: 0.5394 - accuracy: 0.9286\n",
      "Epoch 50/100\n",
      "6/6 [==============================] - 0s 16ms/step - loss: 0.5320 - accuracy: 0.9231\n",
      "Epoch 51/100\n",
      "6/6 [==============================] - 0s 16ms/step - loss: 0.5201 - accuracy: 0.9341\n",
      "Epoch 52/100\n",
      "6/6 [==============================] - 0s 16ms/step - loss: 0.5125 - accuracy: 0.9341\n",
      "Epoch 53/100\n",
      "6/6 [==============================] - 0s 17ms/step - loss: 0.5016 - accuracy: 0.9396\n",
      "Epoch 54/100\n",
      "6/6 [==============================] - 0s 17ms/step - loss: 0.4948 - accuracy: 0.9396\n",
      "Epoch 55/100\n",
      "6/6 [==============================] - 0s 16ms/step - loss: 0.4874 - accuracy: 0.9396\n",
      "Epoch 56/100\n",
      "6/6 [==============================] - 0s 16ms/step - loss: 0.4822 - accuracy: 0.9396\n",
      "Epoch 57/100\n",
      "6/6 [==============================] - 0s 16ms/step - loss: 0.4753 - accuracy: 0.9396\n",
      "Epoch 58/100\n",
      "6/6 [==============================] - 0s 15ms/step - loss: 0.4686 - accuracy: 0.9396\n",
      "Epoch 59/100\n",
      "6/6 [==============================] - 0s 18ms/step - loss: 0.4635 - accuracy: 0.9396\n",
      "Epoch 60/100\n",
      "6/6 [==============================] - 0s 16ms/step - loss: 0.4579 - accuracy: 0.9396\n",
      "Epoch 61/100\n",
      "6/6 [==============================] - 0s 15ms/step - loss: 0.4531 - accuracy: 0.9396\n",
      "Epoch 62/100\n",
      "6/6 [==============================] - 0s 15ms/step - loss: 0.4484 - accuracy: 0.9396\n",
      "Epoch 63/100\n",
      "6/6 [==============================] - 0s 17ms/step - loss: 0.4436 - accuracy: 0.9396\n",
      "Epoch 64/100\n",
      "6/6 [==============================] - 0s 16ms/step - loss: 0.4395 - accuracy: 0.9396\n",
      "Epoch 65/100\n",
      "6/6 [==============================] - 0s 16ms/step - loss: 0.4355 - accuracy: 0.9396\n",
      "Epoch 66/100\n",
      "6/6 [==============================] - 0s 17ms/step - loss: 0.4313 - accuracy: 0.9396\n",
      "Epoch 67/100\n",
      "6/6 [==============================] - 0s 16ms/step - loss: 0.4270 - accuracy: 0.9396\n",
      "Epoch 68/100\n",
      "6/6 [==============================] - 0s 16ms/step - loss: 0.4232 - accuracy: 0.9396\n",
      "Epoch 69/100\n",
      "6/6 [==============================] - 0s 16ms/step - loss: 0.4196 - accuracy: 0.9396\n",
      "Epoch 70/100\n",
      "6/6 [==============================] - 0s 17ms/step - loss: 0.4163 - accuracy: 0.9396\n",
      "Epoch 71/100\n",
      "6/6 [==============================] - 0s 16ms/step - loss: 0.4124 - accuracy: 0.9396\n",
      "Epoch 72/100\n",
      "6/6 [==============================] - 0s 16ms/step - loss: 0.4090 - accuracy: 0.9396\n",
      "Epoch 73/100\n",
      "6/6 [==============================] - 0s 16ms/step - loss: 0.4058 - accuracy: 0.9396\n",
      "Epoch 74/100\n",
      "6/6 [==============================] - 0s 17ms/step - loss: 0.4026 - accuracy: 0.9396\n",
      "Epoch 75/100\n",
      "6/6 [==============================] - 0s 19ms/step - loss: 0.3995 - accuracy: 0.9396\n",
      "Epoch 76/100\n",
      "6/6 [==============================] - 0s 17ms/step - loss: 0.3963 - accuracy: 0.9396\n",
      "Epoch 77/100\n",
      "6/6 [==============================] - 0s 16ms/step - loss: 0.3935 - accuracy: 0.9396\n",
      "Epoch 78/100\n",
      "6/6 [==============================] - 0s 16ms/step - loss: 0.3907 - accuracy: 0.9396\n",
      "Epoch 79/100\n",
      "6/6 [==============================] - 0s 17ms/step - loss: 0.3878 - accuracy: 0.9396\n",
      "Epoch 80/100\n",
      "6/6 [==============================] - 0s 22ms/step - loss: 0.3849 - accuracy: 0.9396\n",
      "Epoch 81/100\n",
      "6/6 [==============================] - 0s 17ms/step - loss: 0.3823 - accuracy: 0.9396\n",
      "Epoch 82/100\n",
      "6/6 [==============================] - 0s 17ms/step - loss: 0.3796 - accuracy: 0.9396\n",
      "Epoch 83/100\n"
     ]
    },
    {
     "name": "stdout",
     "output_type": "stream",
     "text": [
      "6/6 [==============================] - 0s 15ms/step - loss: 0.3769 - accuracy: 0.9396\n",
      "Epoch 84/100\n",
      "6/6 [==============================] - 0s 16ms/step - loss: 0.3745 - accuracy: 0.9396\n",
      "Epoch 85/100\n",
      "6/6 [==============================] - 0s 15ms/step - loss: 0.3720 - accuracy: 0.9396\n",
      "Epoch 86/100\n",
      "6/6 [==============================] - 0s 16ms/step - loss: 0.3696 - accuracy: 0.9396\n",
      "Epoch 87/100\n",
      "6/6 [==============================] - 0s 15ms/step - loss: 0.3672 - accuracy: 0.9396\n",
      "Epoch 88/100\n",
      "6/6 [==============================] - 0s 15ms/step - loss: 0.3647 - accuracy: 0.9396\n",
      "Epoch 89/100\n",
      "6/6 [==============================] - 0s 16ms/step - loss: 0.3625 - accuracy: 0.9396\n",
      "Epoch 90/100\n",
      "6/6 [==============================] - 0s 15ms/step - loss: 0.3601 - accuracy: 0.9396\n",
      "Epoch 91/100\n",
      "6/6 [==============================] - 0s 17ms/step - loss: 0.3580 - accuracy: 0.9396\n",
      "Epoch 92/100\n",
      "6/6 [==============================] - 0s 19ms/step - loss: 0.3559 - accuracy: 0.9396\n",
      "Epoch 93/100\n",
      "6/6 [==============================] - 0s 18ms/step - loss: 0.3536 - accuracy: 0.9396\n",
      "Epoch 94/100\n",
      "6/6 [==============================] - 0s 18ms/step - loss: 0.3519 - accuracy: 0.9396\n",
      "Epoch 95/100\n",
      "6/6 [==============================] - 0s 17ms/step - loss: 0.3488 - accuracy: 0.9396\n",
      "Epoch 96/100\n",
      "6/6 [==============================] - 0s 18ms/step - loss: 0.3440 - accuracy: 0.9451\n",
      "Epoch 97/100\n",
      "6/6 [==============================] - 0s 19ms/step - loss: 0.3885 - accuracy: 0.9176\n",
      "Epoch 98/100\n",
      "6/6 [==============================] - 0s 21ms/step - loss: 0.3718 - accuracy: 0.9286\n",
      "Epoch 99/100\n",
      "6/6 [==============================] - 0s 20ms/step - loss: 0.4236 - accuracy: 0.9231\n",
      "Epoch 100/100\n",
      "6/6 [==============================] - 0s 19ms/step - loss: 0.4813 - accuracy: 0.8681\n"
     ]
    }
   ],
   "source": [
    "history=model.fit(Xtrain, Ytrain, epochs = 100)"
   ]
  },
  {
   "cell_type": "code",
   "execution_count": 55,
   "id": "d0da0696",
   "metadata": {},
   "outputs": [],
   "source": [
    "model.save('mew.h5')"
   ]
  },
  {
   "cell_type": "code",
   "execution_count": 31,
   "id": "convertible-spider",
   "metadata": {},
   "outputs": [
    {
     "name": "stdout",
     "output_type": "stream",
     "text": [
      "1/1 [==============================] - 6s 6s/step\n",
      "I feel very bad 😞\n"
     ]
    }
   ],
   "source": [
    "test = [\"I feel very bad\"]\n",
    "\n",
    "test_seq = tokenizer.texts_to_sequences(test)\n",
    "Xtest = pad_sequences(test_seq, maxlen = maxlen, padding = 'post', truncating = 'post')\n",
    "\n",
    "y_pred = model.predict(Xtest)\n",
    "y_pred = np.argmax(y_pred, axis = 1)\n",
    "\n",
    "for i in range(len(test)):\n",
    "    print(test[i], label_to_emoji(y_pred[i]))"
   ]
  },
  {
   "cell_type": "code",
   "execution_count": 34,
   "id": "2ad07826",
   "metadata": {},
   "outputs": [],
   "source": [
    "import tkinter\n",
    "from tkinter import messagebox"
   ]
  },
  {
   "cell_type": "code",
   "execution_count": 36,
   "id": "incorporated-detector",
   "metadata": {},
   "outputs": [],
   "source": [
    "def check(*args):\n",
    "    \n",
    "    test = [str(e1.get())]\n",
    "\n",
    "    test_seq = tokenizer.texts_to_sequences(test)\n",
    "    Xtest = pad_sequences(test_seq, maxlen = maxlen, padding = 'post', truncating = 'post')\n",
    "\n",
    "    y_pred = model.predict(Xtest)\n",
    "    y_pred = np.argmax(y_pred, axis = 1)\n",
    "\n",
    "    for i in range(len(test)):\n",
    "        outtext=test[i]+label_to_emoji(y_pred[i])\n",
    "    messagebox.showinfo(\"Alert\",outtext)"
   ]
  },
  {
   "cell_type": "code",
   "execution_count": 37,
   "id": "5d4421a2",
   "metadata": {},
   "outputs": [
    {
     "name": "stdout",
     "output_type": "stream",
     "text": [
      "1/1 [==============================] - 2s 2s/step\n"
     ]
    },
    {
     "ename": "KeyboardInterrupt",
     "evalue": "",
     "output_type": "error",
     "traceback": [
      "\u001b[1;31m---------------------------------------------------------------------------\u001b[0m",
      "\u001b[1;31mKeyboardInterrupt\u001b[0m                         Traceback (most recent call last)",
      "\u001b[1;32mC:\\Users\\PRIYAN~1\\AppData\\Local\\Temp/ipykernel_18088/358152233.py\u001b[0m in \u001b[0;36m<module>\u001b[1;34m\u001b[0m\n\u001b[0;32m      8\u001b[0m \u001b[0mlab1\u001b[0m\u001b[1;33m.\u001b[0m\u001b[0mgrid\u001b[0m\u001b[1;33m(\u001b[0m\u001b[0mrow\u001b[0m\u001b[1;33m=\u001b[0m\u001b[1;36m3\u001b[0m\u001b[1;33m,\u001b[0m\u001b[0mcolumn\u001b[0m\u001b[1;33m=\u001b[0m\u001b[1;36m1\u001b[0m\u001b[1;33m)\u001b[0m\u001b[1;33m\u001b[0m\u001b[1;33m\u001b[0m\u001b[0m\n\u001b[0;32m      9\u001b[0m \u001b[1;33m\u001b[0m\u001b[0m\n\u001b[1;32m---> 10\u001b[1;33m \u001b[0mroot\u001b[0m\u001b[1;33m.\u001b[0m\u001b[0mmainloop\u001b[0m\u001b[1;33m(\u001b[0m\u001b[1;33m)\u001b[0m\u001b[1;33m\u001b[0m\u001b[1;33m\u001b[0m\u001b[0m\n\u001b[0m",
      "\u001b[1;32m~\\anaconda3\\lib\\tkinter\\__init__.py\u001b[0m in \u001b[0;36mmainloop\u001b[1;34m(self, n)\u001b[0m\n\u001b[0;32m   1427\u001b[0m     \u001b[1;32mdef\u001b[0m \u001b[0mmainloop\u001b[0m\u001b[1;33m(\u001b[0m\u001b[0mself\u001b[0m\u001b[1;33m,\u001b[0m \u001b[0mn\u001b[0m\u001b[1;33m=\u001b[0m\u001b[1;36m0\u001b[0m\u001b[1;33m)\u001b[0m\u001b[1;33m:\u001b[0m\u001b[1;33m\u001b[0m\u001b[1;33m\u001b[0m\u001b[0m\n\u001b[0;32m   1428\u001b[0m         \u001b[1;34m\"\"\"Call the mainloop of Tk.\"\"\"\u001b[0m\u001b[1;33m\u001b[0m\u001b[1;33m\u001b[0m\u001b[0m\n\u001b[1;32m-> 1429\u001b[1;33m         \u001b[0mself\u001b[0m\u001b[1;33m.\u001b[0m\u001b[0mtk\u001b[0m\u001b[1;33m.\u001b[0m\u001b[0mmainloop\u001b[0m\u001b[1;33m(\u001b[0m\u001b[0mn\u001b[0m\u001b[1;33m)\u001b[0m\u001b[1;33m\u001b[0m\u001b[1;33m\u001b[0m\u001b[0m\n\u001b[0m\u001b[0;32m   1430\u001b[0m \u001b[1;33m\u001b[0m\u001b[0m\n\u001b[0;32m   1431\u001b[0m     \u001b[1;32mdef\u001b[0m \u001b[0mquit\u001b[0m\u001b[1;33m(\u001b[0m\u001b[0mself\u001b[0m\u001b[1;33m)\u001b[0m\u001b[1;33m:\u001b[0m\u001b[1;33m\u001b[0m\u001b[1;33m\u001b[0m\u001b[0m\n",
      "\u001b[1;31mKeyboardInterrupt\u001b[0m: "
     ]
    }
   ],
   "source": [
    "root=tkinter.Tk()\n",
    "root.geometry(\"200x200\")\n",
    "e1=tkinter.Entry(root)\n",
    "e1.grid(row=1,column=3)\n",
    "b1=tkinter.Button(root,command=check,text=\"press\")\n",
    "b1.grid(row=2,column=3)\n",
    "lab1=tkinter.Label(root)\n",
    "lab1.grid(row=3,column=1)\n",
    "\n",
    "root.mainloop()"
   ]
  },
  {
   "cell_type": "code",
   "execution_count": 22,
   "id": "d4b2255c",
   "metadata": {},
   "outputs": [
    {
     "data": {
      "image/png": "[encoded data removed]",
      "text/plain": [
       "<Figure size 432x288 with 1 Axes>"
      ]
     },
     "metadata": {
      "needs_background": "light"
     },
     "output_type": "display_data"
    }
   ],
   "source": [
    "plt.plot(history.history['accuracy'])\n",
    "plt.title('model accuracy')\n",
    "plt.ylabel('accuracy')\n",
    "plt.xlabel('epoch')\n",
    "plt.legend(['train', 'test'], loc='upper left')\n",
    "plt.show()"
   ]
  },
  {
   "cell_type": "code",
   "execution_count": 23,
   "id": "a66e0b6a",
   "metadata": {},
   "outputs": [
    {
     "data": {
      "image/png": "[encoded data removed]",
      "text/plain": [
       "<Figure size 432x288 with 1 Axes>"
      ]
     },
     "metadata": {
      "needs_background": "light"
     },
     "output_type": "display_data"
    }
   ],
   "source": [
    "plt.plot(history.history['loss'])\n",
    "plt.title('model loss')\n",
    "plt.ylabel('loss')\n",
    "plt.xlabel('epoch')\n",
    "plt.legend(['train', 'test'], loc='upper left')\n",
    "plt.show()"
   ]
  },
  {
   "cell_type": "code",
   "execution_count": 5,
   "id": "db3fcd76",
   "metadata": {},
   "outputs": [],
   "source": [
    "import flask\n",
    "from flask import render_template,request,Flask"
   ]
  },
  {
   "cell_type": "code",
   "execution_count": 6,
   "id": "244b9280",
   "metadata": {},
   "outputs": [],
   "source": [
    "app=Flask(__name__)"
   ]
  },
  {
   "cell_type": "code",
   "execution_count": 8,
   "id": "0302af3c",
   "metadata": {},
   "outputs": [
    {
     "ename": "AssertionError",
     "evalue": "View function mapping is overwriting an existing endpoint function: index",
     "output_type": "error",
     "traceback": [
      "\u001b[1;31m---------------------------------------------------------------------------\u001b[0m",
      "\u001b[1;31mAssertionError\u001b[0m                            Traceback (most recent call last)",
      "\u001b[1;32mC:\\Users\\PRIYAN~1\\AppData\\Local\\Temp/ipykernel_18088/142856891.py\u001b[0m in \u001b[0;36m<module>\u001b[1;34m\u001b[0m\n\u001b[0;32m      1\u001b[0m \u001b[1;33m@\u001b[0m\u001b[0mapp\u001b[0m\u001b[1;33m.\u001b[0m\u001b[0mroute\u001b[0m\u001b[1;33m(\u001b[0m\u001b[1;34m'/'\u001b[0m\u001b[1;33m)\u001b[0m\u001b[1;33m\u001b[0m\u001b[1;33m\u001b[0m\u001b[0m\n\u001b[1;32m----> 2\u001b[1;33m \u001b[1;32mdef\u001b[0m \u001b[0mindex\u001b[0m\u001b[1;33m(\u001b[0m\u001b[1;33m)\u001b[0m\u001b[1;33m:\u001b[0m\u001b[1;33m\u001b[0m\u001b[1;33m\u001b[0m\u001b[0m\n\u001b[0m\u001b[0;32m      3\u001b[0m     \u001b[1;32mreturn\u001b[0m \u001b[0mrender_template\u001b[0m\u001b[1;33m(\u001b[0m\u001b[1;34m'index.html'\u001b[0m\u001b[1;33m)\u001b[0m\u001b[1;33m\u001b[0m\u001b[1;33m\u001b[0m\u001b[0m\n\u001b[0;32m      4\u001b[0m \u001b[1;33m\u001b[0m\u001b[0m\n\u001b[0;32m      5\u001b[0m \u001b[1;33m@\u001b[0m\u001b[0mapp\u001b[0m\u001b[1;33m.\u001b[0m\u001b[0mroute\u001b[0m\u001b[1;33m(\u001b[0m\u001b[1;34m'/submit'\u001b[0m\u001b[1;33m,\u001b[0m \u001b[0mmethods\u001b[0m\u001b[1;33m=\u001b[0m\u001b[1;33m[\u001b[0m\u001b[1;34m'POST'\u001b[0m\u001b[1;33m]\u001b[0m\u001b[1;33m)\u001b[0m\u001b[1;33m\u001b[0m\u001b[1;33m\u001b[0m\u001b[0m\n",
      "\u001b[1;32m~\\anaconda3\\lib\\site-packages\\flask\\app.py\u001b[0m in \u001b[0;36mdecorator\u001b[1;34m(f)\u001b[0m\n\u001b[0;32m   1313\u001b[0m         \u001b[1;32mdef\u001b[0m \u001b[0mdecorator\u001b[0m\u001b[1;33m(\u001b[0m\u001b[0mf\u001b[0m\u001b[1;33m)\u001b[0m\u001b[1;33m:\u001b[0m\u001b[1;33m\u001b[0m\u001b[1;33m\u001b[0m\u001b[0m\n\u001b[0;32m   1314\u001b[0m             \u001b[0mendpoint\u001b[0m \u001b[1;33m=\u001b[0m \u001b[0moptions\u001b[0m\u001b[1;33m.\u001b[0m\u001b[0mpop\u001b[0m\u001b[1;33m(\u001b[0m\u001b[1;34m\"endpoint\"\u001b[0m\u001b[1;33m,\u001b[0m \u001b[1;32mNone\u001b[0m\u001b[1;33m)\u001b[0m\u001b[1;33m\u001b[0m\u001b[1;33m\u001b[0m\u001b[0m\n\u001b[1;32m-> 1315\u001b[1;33m             \u001b[0mself\u001b[0m\u001b[1;33m.\u001b[0m\u001b[0madd_url_rule\u001b[0m\u001b[1;33m(\u001b[0m\u001b[0mrule\u001b[0m\u001b[1;33m,\u001b[0m \u001b[0mendpoint\u001b[0m\u001b[1;33m,\u001b[0m \u001b[0mf\u001b[0m\u001b[1;33m,\u001b[0m \u001b[1;33m**\u001b[0m\u001b[0moptions\u001b[0m\u001b[1;33m)\u001b[0m\u001b[1;33m\u001b[0m\u001b[1;33m\u001b[0m\u001b[0m\n\u001b[0m\u001b[0;32m   1316\u001b[0m             \u001b[1;32mreturn\u001b[0m \u001b[0mf\u001b[0m\u001b[1;33m\u001b[0m\u001b[1;33m\u001b[0m\u001b[0m\n\u001b[0;32m   1317\u001b[0m \u001b[1;33m\u001b[0m\u001b[0m\n",
      "\u001b[1;32m~\\anaconda3\\lib\\site-packages\\flask\\app.py\u001b[0m in \u001b[0;36mwrapper_func\u001b[1;34m(self, *args, **kwargs)\u001b[0m\n\u001b[0;32m     96\u001b[0m                 \u001b[1;34m\"before the application starts serving requests.\"\u001b[0m\u001b[1;33m\u001b[0m\u001b[1;33m\u001b[0m\u001b[0m\n\u001b[0;32m     97\u001b[0m             )\n\u001b[1;32m---> 98\u001b[1;33m         \u001b[1;32mreturn\u001b[0m \u001b[0mf\u001b[0m\u001b[1;33m(\u001b[0m\u001b[0mself\u001b[0m\u001b[1;33m,\u001b[0m \u001b[1;33m*\u001b[0m\u001b[0margs\u001b[0m\u001b[1;33m,\u001b[0m \u001b[1;33m**\u001b[0m\u001b[0mkwargs\u001b[0m\u001b[1;33m)\u001b[0m\u001b[1;33m\u001b[0m\u001b[1;33m\u001b[0m\u001b[0m\n\u001b[0m\u001b[0;32m     99\u001b[0m \u001b[1;33m\u001b[0m\u001b[0m\n\u001b[0;32m    100\u001b[0m     \u001b[1;32mreturn\u001b[0m \u001b[0mupdate_wrapper\u001b[0m\u001b[1;33m(\u001b[0m\u001b[0mwrapper_func\u001b[0m\u001b[1;33m,\u001b[0m \u001b[0mf\u001b[0m\u001b[1;33m)\u001b[0m\u001b[1;33m\u001b[0m\u001b[1;33m\u001b[0m\u001b[0m\n",
      "\u001b[1;32m~\\anaconda3\\lib\\site-packages\\flask\\app.py\u001b[0m in \u001b[0;36madd_url_rule\u001b[1;34m(self, rule, endpoint, view_func, provide_automatic_options, **options)\u001b[0m\n\u001b[0;32m   1280\u001b[0m             \u001b[0mold_func\u001b[0m \u001b[1;33m=\u001b[0m \u001b[0mself\u001b[0m\u001b[1;33m.\u001b[0m\u001b[0mview_functions\u001b[0m\u001b[1;33m.\u001b[0m\u001b[0mget\u001b[0m\u001b[1;33m(\u001b[0m\u001b[0mendpoint\u001b[0m\u001b[1;33m)\u001b[0m\u001b[1;33m\u001b[0m\u001b[1;33m\u001b[0m\u001b[0m\n\u001b[0;32m   1281\u001b[0m             \u001b[1;32mif\u001b[0m \u001b[0mold_func\u001b[0m \u001b[1;32mis\u001b[0m \u001b[1;32mnot\u001b[0m \u001b[1;32mNone\u001b[0m \u001b[1;32mand\u001b[0m \u001b[0mold_func\u001b[0m \u001b[1;33m!=\u001b[0m \u001b[0mview_func\u001b[0m\u001b[1;33m:\u001b[0m\u001b[1;33m\u001b[0m\u001b[1;33m\u001b[0m\u001b[0m\n\u001b[1;32m-> 1282\u001b[1;33m                 raise AssertionError(\n\u001b[0m\u001b[0;32m   1283\u001b[0m                     \u001b[1;34m\"View function mapping is overwriting an \"\u001b[0m\u001b[1;33m\u001b[0m\u001b[1;33m\u001b[0m\u001b[0m\n\u001b[0;32m   1284\u001b[0m                     \u001b[1;34m\"existing endpoint function: %s\"\u001b[0m \u001b[1;33m%\u001b[0m \u001b[0mendpoint\u001b[0m\u001b[1;33m\u001b[0m\u001b[1;33m\u001b[0m\u001b[0m\n",
      "\u001b[1;31mAssertionError\u001b[0m: View function mapping is overwriting an existing endpoint function: index"
     ]
    }
   ],
   "source": [
    "@app.route('/')\n",
    "def index():\n",
    "    return render_template('index.html')\n",
    "\n",
    "@app.route('/submit', methods=['POST'])\n",
    "def submit():\n",
    "    test = request.form['entry']\n",
    "\n",
    "    test_seq = tokenizer.texts_to_sequences(test)\n",
    "    Xtest = pad_sequences(test_seq, maxlen = maxlen, padding = 'post', truncating = 'post')\n",
    "\n",
    "    y_pred = model.predict(Xtest)\n",
    "    y_pred = np.argmax(y_pred, axis = 1)\n",
    "\n",
    "    for i in range(len(test)):\n",
    "        outtext=test[i]+label_to_emoji(y_pred[i])\n",
    "    return render_template('result.html',outtext=outtext)\n",
    "\n",
    "if __name__ == '__main__':\n",
    "    app.run(debug=True)"
   ]
  },
  {
   "cell_type": "code",
   "execution_count": null,
   "id": "174f8a2e",
   "metadata": {},
   "outputs": [],
   "source": []
  }
 ],
 "metadata": {
  "kernelspec": {
   "display_name": "Python 3 (ipykernel)",
   "language": "python",
   "name": "python3"
  },
  "language_info": {
   "codemirror_mode": {
    "name": "ipython",
    "version": 3
   },
   "file_extension": ".py",
   "mimetype": "text/x-python",
   "name": "python",
   "nbconvert_exporter": "python",
   "pygments_lexer": "ipython3",
   "version": "3.9.7"
  }
 },
 "nbformat": 4,
 "nbformat_minor": 5
}
